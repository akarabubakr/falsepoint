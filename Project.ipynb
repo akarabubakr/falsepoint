{
  "cells": [
    {
      "cell_type": "markdown",
      "metadata": {
        "id": "view-in-github",
        "colab_type": "text"
      },
      "source": [
        "<a href=\"https://colab.research.google.com/github/akarabubakr/falsepoint/blob/main/Project.ipynb\" target=\"_parent\"><img src=\"https://colab.research.google.com/assets/colab-badge.svg\" alt=\"Open In Colab\"/></a>"
      ]
    },
    {
      "cell_type": "markdown",
      "id": "f12ca91f",
      "metadata": {
        "id": "f12ca91f"
      },
      "source": [
        "# Lab 1"
      ]
    },
    {
      "cell_type": "code",
      "execution_count": null,
      "id": "2c8c6320",
      "metadata": {
        "id": "2c8c6320"
      },
      "outputs": [],
      "source": [
        "import pandas as pd\n",
        "import numpy as np\n",
        "import matplotlib.pyplot as plt\n",
        "import seaborn as sns"
      ]
    },
    {
      "cell_type": "code",
      "execution_count": null,
      "id": "2e21457b",
      "metadata": {
        "id": "2e21457b"
      },
      "outputs": [],
      "source": [
        "mydata = pd.read_csv('project.csv')"
      ]
    },
    {
      "cell_type": "code",
      "execution_count": null,
      "id": "71f85027",
      "metadata": {
        "id": "71f85027",
        "outputId": "5254842e-6019-4bbf-9541-5c313f6a67f2"
      },
      "outputs": [
        {
          "data": {
            "text/html": [
              "<div>\n",
              "<style scoped>\n",
              "    .dataframe tbody tr th:only-of-type {\n",
              "        vertical-align: middle;\n",
              "    }\n",
              "\n",
              "    .dataframe tbody tr th {\n",
              "        vertical-align: top;\n",
              "    }\n",
              "\n",
              "    .dataframe thead th {\n",
              "        text-align: right;\n",
              "    }\n",
              "</style>\n",
              "<table border=\"1\" class=\"dataframe\">\n",
              "  <thead>\n",
              "    <tr style=\"text-align: right;\">\n",
              "      <th></th>\n",
              "      <th>id</th>\n",
              "      <th>year</th>\n",
              "      <th>type_of_violence</th>\n",
              "      <th>conflict_new_id</th>\n",
              "      <th>conflict_name</th>\n",
              "      <th>dyad_new_id</th>\n",
              "      <th>dyad_name</th>\n",
              "      <th>where_coordinates</th>\n",
              "      <th>latitude</th>\n",
              "      <th>longitude</th>\n",
              "      <th>deaths_civilians</th>\n",
              "      <th>deaths_unknown</th>\n",
              "      <th>low</th>\n",
              "      <th>best</th>\n",
              "      <th>high</th>\n",
              "    </tr>\n",
              "  </thead>\n",
              "  <tbody>\n",
              "    <tr>\n",
              "      <th>0</th>\n",
              "      <td>114064</td>\n",
              "      <td>2014</td>\n",
              "      <td>1</td>\n",
              "      <td>259</td>\n",
              "      <td>Iraq: Government</td>\n",
              "      <td>524</td>\n",
              "      <td>Government of Iraq - IS</td>\n",
              "      <td>Al Fall®jah town</td>\n",
              "      <td>33.355813</td>\n",
              "      <td>43.786124</td>\n",
              "      <td>1</td>\n",
              "      <td>7</td>\n",
              "      <td>8</td>\n",
              "      <td>8</td>\n",
              "      <td>8</td>\n",
              "    </tr>\n",
              "    <tr>\n",
              "      <th>1</th>\n",
              "      <td>62366</td>\n",
              "      <td>2013</td>\n",
              "      <td>3</td>\n",
              "      <td>506</td>\n",
              "      <td>IS - Civilians</td>\n",
              "      <td>973</td>\n",
              "      <td>IS - Civilians</td>\n",
              "      <td>SŽmarrŽƒ?? Town</td>\n",
              "      <td>34.196632</td>\n",
              "      <td>43.873899</td>\n",
              "      <td>0</td>\n",
              "      <td>7</td>\n",
              "      <td>7</td>\n",
              "      <td>7</td>\n",
              "      <td>7</td>\n",
              "    </tr>\n",
              "    <tr>\n",
              "      <th>2</th>\n",
              "      <td>114179</td>\n",
              "      <td>2014</td>\n",
              "      <td>1</td>\n",
              "      <td>259</td>\n",
              "      <td>Iraq: Government</td>\n",
              "      <td>524</td>\n",
              "      <td>Government of Iraq - IS</td>\n",
              "      <td>BayjŽ® town</td>\n",
              "      <td>34.930700</td>\n",
              "      <td>43.493107</td>\n",
              "      <td>0</td>\n",
              "      <td>0</td>\n",
              "      <td>6</td>\n",
              "      <td>6</td>\n",
              "      <td>6</td>\n",
              "    </tr>\n",
              "  </tbody>\n",
              "</table>\n",
              "</div>"
            ],
            "text/plain": [
              "       id  year  type_of_violence  conflict_new_id     conflict_name  \\\n",
              "0  114064  2014                 1              259  Iraq: Government   \n",
              "1   62366  2013                 3              506    IS - Civilians   \n",
              "2  114179  2014                 1              259  Iraq: Government   \n",
              "\n",
              "   dyad_new_id                dyad_name  where_coordinates   latitude  \\\n",
              "0          524  Government of Iraq - IS  Al Fall®jah town  33.355813   \n",
              "1          973           IS - Civilians  SŽmarrŽƒ?? Town  34.196632   \n",
              "2          524  Government of Iraq - IS        BayjŽ® town  34.930700   \n",
              "\n",
              "   longitude  deaths_civilians  deaths_unknown  low  best  high  \n",
              "0  43.786124                 1               7    8     8     8  \n",
              "1  43.873899                 0               7    7     7     7  \n",
              "2  43.493107                 0               0    6     6     6  "
            ]
          },
          "execution_count": 3,
          "metadata": {},
          "output_type": "execute_result"
        }
      ],
      "source": [
        "mydata.head(3)"
      ]
    },
    {
      "cell_type": "code",
      "execution_count": null,
      "id": "b0820fa4",
      "metadata": {
        "id": "b0820fa4",
        "outputId": "f89af10e-d70a-4848-a794-29446d4a90b4"
      },
      "outputs": [
        {
          "data": {
            "text/html": [
              "<div>\n",
              "<style scoped>\n",
              "    .dataframe tbody tr th:only-of-type {\n",
              "        vertical-align: middle;\n",
              "    }\n",
              "\n",
              "    .dataframe tbody tr th {\n",
              "        vertical-align: top;\n",
              "    }\n",
              "\n",
              "    .dataframe thead th {\n",
              "        text-align: right;\n",
              "    }\n",
              "</style>\n",
              "<table border=\"1\" class=\"dataframe\">\n",
              "  <thead>\n",
              "    <tr style=\"text-align: right;\">\n",
              "      <th></th>\n",
              "      <th>id</th>\n",
              "      <th>year</th>\n",
              "      <th>type_of_violence</th>\n",
              "      <th>conflict_new_id</th>\n",
              "      <th>conflict_name</th>\n",
              "      <th>dyad_new_id</th>\n",
              "      <th>dyad_name</th>\n",
              "      <th>where_coordinates</th>\n",
              "      <th>latitude</th>\n",
              "      <th>longitude</th>\n",
              "      <th>deaths_civilians</th>\n",
              "      <th>deaths_unknown</th>\n",
              "      <th>low</th>\n",
              "      <th>best</th>\n",
              "      <th>high</th>\n",
              "    </tr>\n",
              "  </thead>\n",
              "  <tbody>\n",
              "    <tr>\n",
              "      <th>count</th>\n",
              "      <td>1998.000000</td>\n",
              "      <td>1998.000000</td>\n",
              "      <td>1998.000000</td>\n",
              "      <td>1998.000000</td>\n",
              "      <td>1998</td>\n",
              "      <td>1998.000000</td>\n",
              "      <td>1998</td>\n",
              "      <td>1998</td>\n",
              "      <td>1998.000000</td>\n",
              "      <td>1998.000000</td>\n",
              "      <td>1998.000000</td>\n",
              "      <td>1998.000000</td>\n",
              "      <td>1998.000000</td>\n",
              "      <td>1998.000000</td>\n",
              "      <td>1998.000000</td>\n",
              "    </tr>\n",
              "    <tr>\n",
              "      <th>unique</th>\n",
              "      <td>NaN</td>\n",
              "      <td>NaN</td>\n",
              "      <td>NaN</td>\n",
              "      <td>NaN</td>\n",
              "      <td>22</td>\n",
              "      <td>NaN</td>\n",
              "      <td>28</td>\n",
              "      <td>233</td>\n",
              "      <td>NaN</td>\n",
              "      <td>NaN</td>\n",
              "      <td>NaN</td>\n",
              "      <td>NaN</td>\n",
              "      <td>NaN</td>\n",
              "      <td>NaN</td>\n",
              "      <td>NaN</td>\n",
              "    </tr>\n",
              "    <tr>\n",
              "      <th>top</th>\n",
              "      <td>NaN</td>\n",
              "      <td>NaN</td>\n",
              "      <td>NaN</td>\n",
              "      <td>NaN</td>\n",
              "      <td>Iraq: Government</td>\n",
              "      <td>NaN</td>\n",
              "      <td>Government of Iraq - IS</td>\n",
              "      <td>BaghdŽd city</td>\n",
              "      <td>NaN</td>\n",
              "      <td>NaN</td>\n",
              "      <td>NaN</td>\n",
              "      <td>NaN</td>\n",
              "      <td>NaN</td>\n",
              "      <td>NaN</td>\n",
              "      <td>NaN</td>\n",
              "    </tr>\n",
              "    <tr>\n",
              "      <th>freq</th>\n",
              "      <td>NaN</td>\n",
              "      <td>NaN</td>\n",
              "      <td>NaN</td>\n",
              "      <td>NaN</td>\n",
              "      <td>1304</td>\n",
              "      <td>NaN</td>\n",
              "      <td>961</td>\n",
              "      <td>363</td>\n",
              "      <td>NaN</td>\n",
              "      <td>NaN</td>\n",
              "      <td>NaN</td>\n",
              "      <td>NaN</td>\n",
              "      <td>NaN</td>\n",
              "      <td>NaN</td>\n",
              "      <td>NaN</td>\n",
              "    </tr>\n",
              "    <tr>\n",
              "      <th>mean</th>\n",
              "      <td>136572.550551</td>\n",
              "      <td>2003.391391</td>\n",
              "      <td>1.377878</td>\n",
              "      <td>688.188689</td>\n",
              "      <td>NaN</td>\n",
              "      <td>1831.170671</td>\n",
              "      <td>NaN</td>\n",
              "      <td>NaN</td>\n",
              "      <td>34.116258</td>\n",
              "      <td>43.939769</td>\n",
              "      <td>3.721722</td>\n",
              "      <td>11.323323</td>\n",
              "      <td>26.394394</td>\n",
              "      <td>27.019019</td>\n",
              "      <td>38.288288</td>\n",
              "    </tr>\n",
              "    <tr>\n",
              "      <th>std</th>\n",
              "      <td>19053.838474</td>\n",
              "      <td>5.279088</td>\n",
              "      <td>0.741401</td>\n",
              "      <td>1532.161083</td>\n",
              "      <td>NaN</td>\n",
              "      <td>3449.584580</td>\n",
              "      <td>NaN</td>\n",
              "      <td>NaN</td>\n",
              "      <td>1.701995</td>\n",
              "      <td>1.326352</td>\n",
              "      <td>47.772701</td>\n",
              "      <td>217.711578</td>\n",
              "      <td>312.405090</td>\n",
              "      <td>312.062863</td>\n",
              "      <td>431.354996</td>\n",
              "    </tr>\n",
              "    <tr>\n",
              "      <th>min</th>\n",
              "      <td>28653.000000</td>\n",
              "      <td>1989.000000</td>\n",
              "      <td>1.000000</td>\n",
              "      <td>205.000000</td>\n",
              "      <td>NaN</td>\n",
              "      <td>406.000000</td>\n",
              "      <td>NaN</td>\n",
              "      <td>NaN</td>\n",
              "      <td>29.779163</td>\n",
              "      <td>39.009104</td>\n",
              "      <td>0.000000</td>\n",
              "      <td>0.000000</td>\n",
              "      <td>0.000000</td>\n",
              "      <td>0.000000</td>\n",
              "      <td>1.000000</td>\n",
              "    </tr>\n",
              "    <tr>\n",
              "      <th>25%</th>\n",
              "      <td>125884.750000</td>\n",
              "      <td>2003.000000</td>\n",
              "      <td>1.000000</td>\n",
              "      <td>259.000000</td>\n",
              "      <td>NaN</td>\n",
              "      <td>524.000000</td>\n",
              "      <td>NaN</td>\n",
              "      <td>NaN</td>\n",
              "      <td>33.133333</td>\n",
              "      <td>43.118889</td>\n",
              "      <td>0.000000</td>\n",
              "      <td>0.000000</td>\n",
              "      <td>1.000000</td>\n",
              "      <td>1.000000</td>\n",
              "      <td>1.000000</td>\n",
              "    </tr>\n",
              "    <tr>\n",
              "      <th>50%</th>\n",
              "      <td>136491.500000</td>\n",
              "      <td>2005.000000</td>\n",
              "      <td>1.000000</td>\n",
              "      <td>259.000000</td>\n",
              "      <td>NaN</td>\n",
              "      <td>524.000000</td>\n",
              "      <td>NaN</td>\n",
              "      <td>NaN</td>\n",
              "      <td>33.383601</td>\n",
              "      <td>44.000000</td>\n",
              "      <td>0.000000</td>\n",
              "      <td>0.000000</td>\n",
              "      <td>2.000000</td>\n",
              "      <td>3.000000</td>\n",
              "      <td>4.000000</td>\n",
              "    </tr>\n",
              "    <tr>\n",
              "      <th>75%</th>\n",
              "      <td>137751.750000</td>\n",
              "      <td>2006.000000</td>\n",
              "      <td>1.000000</td>\n",
              "      <td>420.000000</td>\n",
              "      <td>NaN</td>\n",
              "      <td>948.000000</td>\n",
              "      <td>NaN</td>\n",
              "      <td>NaN</td>\n",
              "      <td>36.166667</td>\n",
              "      <td>44.400876</td>\n",
              "      <td>0.000000</td>\n",
              "      <td>0.000000</td>\n",
              "      <td>8.000000</td>\n",
              "      <td>8.000000</td>\n",
              "      <td>12.000000</td>\n",
              "    </tr>\n",
              "    <tr>\n",
              "      <th>max</th>\n",
              "      <td>277207.000000</td>\n",
              "      <td>2018.000000</td>\n",
              "      <td>3.000000</td>\n",
              "      <td>13902.000000</td>\n",
              "      <td>NaN</td>\n",
              "      <td>14701.000000</td>\n",
              "      <td>NaN</td>\n",
              "      <td>NaN</td>\n",
              "      <td>37.312772</td>\n",
              "      <td>47.919506</td>\n",
              "      <td>1942.000000</td>\n",
              "      <td>7075.000000</td>\n",
              "      <td>9505.000000</td>\n",
              "      <td>9505.000000</td>\n",
              "      <td>11659.000000</td>\n",
              "    </tr>\n",
              "  </tbody>\n",
              "</table>\n",
              "</div>"
            ],
            "text/plain": [
              "                   id         year  type_of_violence  conflict_new_id  \\\n",
              "count     1998.000000  1998.000000       1998.000000      1998.000000   \n",
              "unique            NaN          NaN               NaN              NaN   \n",
              "top               NaN          NaN               NaN              NaN   \n",
              "freq              NaN          NaN               NaN              NaN   \n",
              "mean    136572.550551  2003.391391          1.377878       688.188689   \n",
              "std      19053.838474     5.279088          0.741401      1532.161083   \n",
              "min      28653.000000  1989.000000          1.000000       205.000000   \n",
              "25%     125884.750000  2003.000000          1.000000       259.000000   \n",
              "50%     136491.500000  2005.000000          1.000000       259.000000   \n",
              "75%     137751.750000  2006.000000          1.000000       420.000000   \n",
              "max     277207.000000  2018.000000          3.000000     13902.000000   \n",
              "\n",
              "           conflict_name   dyad_new_id                dyad_name  \\\n",
              "count               1998   1998.000000                     1998   \n",
              "unique                22           NaN                       28   \n",
              "top     Iraq: Government           NaN  Government of Iraq - IS   \n",
              "freq                1304           NaN                      961   \n",
              "mean                 NaN   1831.170671                      NaN   \n",
              "std                  NaN   3449.584580                      NaN   \n",
              "min                  NaN    406.000000                      NaN   \n",
              "25%                  NaN    524.000000                      NaN   \n",
              "50%                  NaN    524.000000                      NaN   \n",
              "75%                  NaN    948.000000                      NaN   \n",
              "max                  NaN  14701.000000                      NaN   \n",
              "\n",
              "       where_coordinates     latitude    longitude  deaths_civilians  \\\n",
              "count               1998  1998.000000  1998.000000       1998.000000   \n",
              "unique               233          NaN          NaN               NaN   \n",
              "top        BaghdŽd city          NaN          NaN               NaN   \n",
              "freq                 363          NaN          NaN               NaN   \n",
              "mean                 NaN    34.116258    43.939769          3.721722   \n",
              "std                  NaN     1.701995     1.326352         47.772701   \n",
              "min                  NaN    29.779163    39.009104          0.000000   \n",
              "25%                  NaN    33.133333    43.118889          0.000000   \n",
              "50%                  NaN    33.383601    44.000000          0.000000   \n",
              "75%                  NaN    36.166667    44.400876          0.000000   \n",
              "max                  NaN    37.312772    47.919506       1942.000000   \n",
              "\n",
              "        deaths_unknown          low         best          high  \n",
              "count      1998.000000  1998.000000  1998.000000   1998.000000  \n",
              "unique             NaN          NaN          NaN           NaN  \n",
              "top                NaN          NaN          NaN           NaN  \n",
              "freq               NaN          NaN          NaN           NaN  \n",
              "mean         11.323323    26.394394    27.019019     38.288288  \n",
              "std         217.711578   312.405090   312.062863    431.354996  \n",
              "min           0.000000     0.000000     0.000000      1.000000  \n",
              "25%           0.000000     1.000000     1.000000      1.000000  \n",
              "50%           0.000000     2.000000     3.000000      4.000000  \n",
              "75%           0.000000     8.000000     8.000000     12.000000  \n",
              "max        7075.000000  9505.000000  9505.000000  11659.000000  "
            ]
          },
          "execution_count": 4,
          "metadata": {},
          "output_type": "execute_result"
        }
      ],
      "source": [
        "mydata.describe(include = \"all\")"
      ]
    },
    {
      "cell_type": "code",
      "execution_count": null,
      "id": "1a34eb71",
      "metadata": {
        "scrolled": true,
        "id": "1a34eb71",
        "outputId": "c26dc466-a9fd-406d-b37c-dcb3b556dd21"
      },
      "outputs": [
        {
          "name": "stdout",
          "output_type": "stream",
          "text": [
            "<class 'pandas.core.frame.DataFrame'>\n",
            "RangeIndex: 1998 entries, 0 to 1997\n",
            "Data columns (total 15 columns):\n",
            " #   Column             Non-Null Count  Dtype  \n",
            "---  ------             --------------  -----  \n",
            " 0   id                 1998 non-null   int64  \n",
            " 1   year               1998 non-null   int64  \n",
            " 2   type_of_violence   1998 non-null   int64  \n",
            " 3   conflict_new_id    1998 non-null   int64  \n",
            " 4   conflict_name      1998 non-null   object \n",
            " 5   dyad_new_id        1998 non-null   int64  \n",
            " 6   dyad_name          1998 non-null   object \n",
            " 7   where_coordinates  1998 non-null   object \n",
            " 8   latitude           1998 non-null   float64\n",
            " 9   longitude          1998 non-null   float64\n",
            " 10  deaths_civilians   1998 non-null   int64  \n",
            " 11  deaths_unknown     1998 non-null   int64  \n",
            " 12  low                1998 non-null   int64  \n",
            " 13  best               1998 non-null   int64  \n",
            " 14  high               1998 non-null   int64  \n",
            "dtypes: float64(2), int64(10), object(3)\n",
            "memory usage: 234.3+ KB\n"
          ]
        }
      ],
      "source": [
        "mydata.info()"
      ]
    },
    {
      "cell_type": "code",
      "execution_count": null,
      "id": "45f14613",
      "metadata": {
        "scrolled": true,
        "id": "45f14613",
        "outputId": "b4705067-96fa-43fc-c878-05f953ffc5d0"
      },
      "outputs": [
        {
          "data": {
            "text/plain": [
              "array([[<AxesSubplot:title={'center':'id'}>,\n",
              "        <AxesSubplot:title={'center':'year'}>,\n",
              "        <AxesSubplot:title={'center':'type_of_violence'}>],\n",
              "       [<AxesSubplot:title={'center':'conflict_new_id'}>,\n",
              "        <AxesSubplot:title={'center':'dyad_new_id'}>,\n",
              "        <AxesSubplot:title={'center':'latitude'}>],\n",
              "       [<AxesSubplot:title={'center':'longitude'}>,\n",
              "        <AxesSubplot:title={'center':'deaths_civilians'}>,\n",
              "        <AxesSubplot:title={'center':'deaths_unknown'}>],\n",
              "       [<AxesSubplot:title={'center':'low'}>,\n",
              "        <AxesSubplot:title={'center':'best'}>,\n",
              "        <AxesSubplot:title={'center':'high'}>]], dtype=object)"
            ]
          },
          "execution_count": 6,
          "metadata": {},
          "output_type": "execute_result"
        },
        {
          "data": {
            "image/png": "[encoded data removed]",
            "text/plain": [
              "<Figure size 2880x2160 with 12 Axes>"
            ]
          },
          "metadata": {
            "needs_background": "light"
          },
          "output_type": "display_data"
        }
      ],
      "source": [
        "%matplotlib inline\n",
        "\n",
        "mydata.hist(figsize = (40,30))"
      ]
    },
    {
      "cell_type": "code",
      "execution_count": null,
      "id": "d9d302ff",
      "metadata": {
        "id": "d9d302ff",
        "outputId": "2dde2b06-595f-48fa-e04c-789f2cebfb1e"
      },
      "outputs": [
        {
          "data": {
            "text/html": [
              "<div>\n",
              "<style scoped>\n",
              "    .dataframe tbody tr th:only-of-type {\n",
              "        vertical-align: middle;\n",
              "    }\n",
              "\n",
              "    .dataframe tbody tr th {\n",
              "        vertical-align: top;\n",
              "    }\n",
              "\n",
              "    .dataframe thead th {\n",
              "        text-align: right;\n",
              "    }\n",
              "</style>\n",
              "<table border=\"1\" class=\"dataframe\">\n",
              "  <thead>\n",
              "    <tr style=\"text-align: right;\">\n",
              "      <th>type_of_violence</th>\n",
              "      <th>1</th>\n",
              "      <th>2</th>\n",
              "      <th>3</th>\n",
              "    </tr>\n",
              "    <tr>\n",
              "      <th>deaths_civilians</th>\n",
              "      <th></th>\n",
              "      <th></th>\n",
              "      <th></th>\n",
              "    </tr>\n",
              "  </thead>\n",
              "  <tbody>\n",
              "    <tr>\n",
              "      <th>0</th>\n",
              "      <td>1366</td>\n",
              "      <td>115</td>\n",
              "      <td>83</td>\n",
              "    </tr>\n",
              "    <tr>\n",
              "      <th>1</th>\n",
              "      <td>66</td>\n",
              "      <td>6</td>\n",
              "      <td>73</td>\n",
              "    </tr>\n",
              "    <tr>\n",
              "      <th>2</th>\n",
              "      <td>33</td>\n",
              "      <td>1</td>\n",
              "      <td>36</td>\n",
              "    </tr>\n",
              "    <tr>\n",
              "      <th>3</th>\n",
              "      <td>20</td>\n",
              "      <td>2</td>\n",
              "      <td>25</td>\n",
              "    </tr>\n",
              "    <tr>\n",
              "      <th>4</th>\n",
              "      <td>16</td>\n",
              "      <td>1</td>\n",
              "      <td>11</td>\n",
              "    </tr>\n",
              "    <tr>\n",
              "      <th>5</th>\n",
              "      <td>9</td>\n",
              "      <td>1</td>\n",
              "      <td>11</td>\n",
              "    </tr>\n",
              "    <tr>\n",
              "      <th>6</th>\n",
              "      <td>7</td>\n",
              "      <td>0</td>\n",
              "      <td>7</td>\n",
              "    </tr>\n",
              "    <tr>\n",
              "      <th>7</th>\n",
              "      <td>4</td>\n",
              "      <td>0</td>\n",
              "      <td>4</td>\n",
              "    </tr>\n",
              "    <tr>\n",
              "      <th>8</th>\n",
              "      <td>3</td>\n",
              "      <td>0</td>\n",
              "      <td>2</td>\n",
              "    </tr>\n",
              "    <tr>\n",
              "      <th>9</th>\n",
              "      <td>2</td>\n",
              "      <td>1</td>\n",
              "      <td>2</td>\n",
              "    </tr>\n",
              "    <tr>\n",
              "      <th>10</th>\n",
              "      <td>3</td>\n",
              "      <td>0</td>\n",
              "      <td>3</td>\n",
              "    </tr>\n",
              "    <tr>\n",
              "      <th>11</th>\n",
              "      <td>3</td>\n",
              "      <td>0</td>\n",
              "      <td>2</td>\n",
              "    </tr>\n",
              "    <tr>\n",
              "      <th>12</th>\n",
              "      <td>2</td>\n",
              "      <td>0</td>\n",
              "      <td>5</td>\n",
              "    </tr>\n",
              "    <tr>\n",
              "      <th>14</th>\n",
              "      <td>2</td>\n",
              "      <td>0</td>\n",
              "      <td>3</td>\n",
              "    </tr>\n",
              "    <tr>\n",
              "      <th>15</th>\n",
              "      <td>2</td>\n",
              "      <td>0</td>\n",
              "      <td>4</td>\n",
              "    </tr>\n",
              "    <tr>\n",
              "      <th>16</th>\n",
              "      <td>1</td>\n",
              "      <td>0</td>\n",
              "      <td>1</td>\n",
              "    </tr>\n",
              "    <tr>\n",
              "      <th>17</th>\n",
              "      <td>1</td>\n",
              "      <td>0</td>\n",
              "      <td>1</td>\n",
              "    </tr>\n",
              "    <tr>\n",
              "      <th>19</th>\n",
              "      <td>2</td>\n",
              "      <td>0</td>\n",
              "      <td>0</td>\n",
              "    </tr>\n",
              "    <tr>\n",
              "      <th>20</th>\n",
              "      <td>0</td>\n",
              "      <td>0</td>\n",
              "      <td>2</td>\n",
              "    </tr>\n",
              "    <tr>\n",
              "      <th>21</th>\n",
              "      <td>1</td>\n",
              "      <td>0</td>\n",
              "      <td>0</td>\n",
              "    </tr>\n",
              "    <tr>\n",
              "      <th>22</th>\n",
              "      <td>0</td>\n",
              "      <td>0</td>\n",
              "      <td>1</td>\n",
              "    </tr>\n",
              "    <tr>\n",
              "      <th>23</th>\n",
              "      <td>0</td>\n",
              "      <td>0</td>\n",
              "      <td>1</td>\n",
              "    </tr>\n",
              "    <tr>\n",
              "      <th>24</th>\n",
              "      <td>2</td>\n",
              "      <td>0</td>\n",
              "      <td>3</td>\n",
              "    </tr>\n",
              "    <tr>\n",
              "      <th>25</th>\n",
              "      <td>2</td>\n",
              "      <td>0</td>\n",
              "      <td>2</td>\n",
              "    </tr>\n",
              "    <tr>\n",
              "      <th>28</th>\n",
              "      <td>1</td>\n",
              "      <td>0</td>\n",
              "      <td>1</td>\n",
              "    </tr>\n",
              "    <tr>\n",
              "      <th>30</th>\n",
              "      <td>1</td>\n",
              "      <td>0</td>\n",
              "      <td>5</td>\n",
              "    </tr>\n",
              "    <tr>\n",
              "      <th>32</th>\n",
              "      <td>0</td>\n",
              "      <td>0</td>\n",
              "      <td>1</td>\n",
              "    </tr>\n",
              "    <tr>\n",
              "      <th>33</th>\n",
              "      <td>0</td>\n",
              "      <td>0</td>\n",
              "      <td>2</td>\n",
              "    </tr>\n",
              "    <tr>\n",
              "      <th>34</th>\n",
              "      <td>0</td>\n",
              "      <td>0</td>\n",
              "      <td>3</td>\n",
              "    </tr>\n",
              "    <tr>\n",
              "      <th>35</th>\n",
              "      <td>0</td>\n",
              "      <td>0</td>\n",
              "      <td>2</td>\n",
              "    </tr>\n",
              "    <tr>\n",
              "      <th>40</th>\n",
              "      <td>1</td>\n",
              "      <td>0</td>\n",
              "      <td>1</td>\n",
              "    </tr>\n",
              "    <tr>\n",
              "      <th>50</th>\n",
              "      <td>1</td>\n",
              "      <td>0</td>\n",
              "      <td>1</td>\n",
              "    </tr>\n",
              "    <tr>\n",
              "      <th>53</th>\n",
              "      <td>0</td>\n",
              "      <td>0</td>\n",
              "      <td>1</td>\n",
              "    </tr>\n",
              "    <tr>\n",
              "      <th>59</th>\n",
              "      <td>0</td>\n",
              "      <td>0</td>\n",
              "      <td>1</td>\n",
              "    </tr>\n",
              "    <tr>\n",
              "      <th>62</th>\n",
              "      <td>1</td>\n",
              "      <td>0</td>\n",
              "      <td>0</td>\n",
              "    </tr>\n",
              "    <tr>\n",
              "      <th>63</th>\n",
              "      <td>0</td>\n",
              "      <td>0</td>\n",
              "      <td>1</td>\n",
              "    </tr>\n",
              "    <tr>\n",
              "      <th>66</th>\n",
              "      <td>0</td>\n",
              "      <td>0</td>\n",
              "      <td>1</td>\n",
              "    </tr>\n",
              "    <tr>\n",
              "      <th>68</th>\n",
              "      <td>0</td>\n",
              "      <td>0</td>\n",
              "      <td>1</td>\n",
              "    </tr>\n",
              "    <tr>\n",
              "      <th>72</th>\n",
              "      <td>0</td>\n",
              "      <td>0</td>\n",
              "      <td>1</td>\n",
              "    </tr>\n",
              "    <tr>\n",
              "      <th>98</th>\n",
              "      <td>0</td>\n",
              "      <td>0</td>\n",
              "      <td>1</td>\n",
              "    </tr>\n",
              "    <tr>\n",
              "      <th>99</th>\n",
              "      <td>0</td>\n",
              "      <td>0</td>\n",
              "      <td>1</td>\n",
              "    </tr>\n",
              "    <tr>\n",
              "      <th>100</th>\n",
              "      <td>0</td>\n",
              "      <td>0</td>\n",
              "      <td>4</td>\n",
              "    </tr>\n",
              "    <tr>\n",
              "      <th>114</th>\n",
              "      <td>0</td>\n",
              "      <td>0</td>\n",
              "      <td>1</td>\n",
              "    </tr>\n",
              "    <tr>\n",
              "      <th>125</th>\n",
              "      <td>0</td>\n",
              "      <td>0</td>\n",
              "      <td>1</td>\n",
              "    </tr>\n",
              "    <tr>\n",
              "      <th>200</th>\n",
              "      <td>1</td>\n",
              "      <td>0</td>\n",
              "      <td>1</td>\n",
              "    </tr>\n",
              "    <tr>\n",
              "      <th>256</th>\n",
              "      <td>1</td>\n",
              "      <td>0</td>\n",
              "      <td>0</td>\n",
              "    </tr>\n",
              "    <tr>\n",
              "      <th>313</th>\n",
              "      <td>1</td>\n",
              "      <td>0</td>\n",
              "      <td>0</td>\n",
              "    </tr>\n",
              "    <tr>\n",
              "      <th>403</th>\n",
              "      <td>1</td>\n",
              "      <td>0</td>\n",
              "      <td>0</td>\n",
              "    </tr>\n",
              "    <tr>\n",
              "      <th>500</th>\n",
              "      <td>0</td>\n",
              "      <td>0</td>\n",
              "      <td>1</td>\n",
              "    </tr>\n",
              "    <tr>\n",
              "      <th>1942</th>\n",
              "      <td>1</td>\n",
              "      <td>0</td>\n",
              "      <td>0</td>\n",
              "    </tr>\n",
              "  </tbody>\n",
              "</table>\n",
              "</div>"
            ],
            "text/plain": [
              "type_of_violence     1    2   3\n",
              "deaths_civilians               \n",
              "0                 1366  115  83\n",
              "1                   66    6  73\n",
              "2                   33    1  36\n",
              "3                   20    2  25\n",
              "4                   16    1  11\n",
              "5                    9    1  11\n",
              "6                    7    0   7\n",
              "7                    4    0   4\n",
              "8                    3    0   2\n",
              "9                    2    1   2\n",
              "10                   3    0   3\n",
              "11                   3    0   2\n",
              "12                   2    0   5\n",
              "14                   2    0   3\n",
              "15                   2    0   4\n",
              "16                   1    0   1\n",
              "17                   1    0   1\n",
              "19                   2    0   0\n",
              "20                   0    0   2\n",
              "21                   1    0   0\n",
              "22                   0    0   1\n",
              "23                   0    0   1\n",
              "24                   2    0   3\n",
              "25                   2    0   2\n",
              "28                   1    0   1\n",
              "30                   1    0   5\n",
              "32                   0    0   1\n",
              "33                   0    0   2\n",
              "34                   0    0   3\n",
              "35                   0    0   2\n",
              "40                   1    0   1\n",
              "50                   1    0   1\n",
              "53                   0    0   1\n",
              "59                   0    0   1\n",
              "62                   1    0   0\n",
              "63                   0    0   1\n",
              "66                   0    0   1\n",
              "68                   0    0   1\n",
              "72                   0    0   1\n",
              "98                   0    0   1\n",
              "99                   0    0   1\n",
              "100                  0    0   4\n",
              "114                  0    0   1\n",
              "125                  0    0   1\n",
              "200                  1    0   1\n",
              "256                  1    0   0\n",
              "313                  1    0   0\n",
              "403                  1    0   0\n",
              "500                  0    0   1\n",
              "1942                 1    0   0"
            ]
          },
          "execution_count": 7,
          "metadata": {},
          "output_type": "execute_result"
        }
      ],
      "source": [
        "pd.crosstab(mydata['deaths_civilians'],mydata['type_of_violence'] )"
      ]
    },
    {
      "cell_type": "code",
      "execution_count": null,
      "id": "dc491038",
      "metadata": {
        "id": "dc491038",
        "outputId": "184a1a68-d346-4df6-e117-cf51a4d91caf"
      },
      "outputs": [
        {
          "data": {
            "text/plain": [
              "<AxesSubplot:xlabel='type_of_violence', ylabel='count'>"
            ]
          },
          "execution_count": 8,
          "metadata": {},
          "output_type": "execute_result"
        },
        {
          "data": {
            "image/png": "[encoded data removed]",
            "text/plain": [
              "<Figure size 432x288 with 1 Axes>"
            ]
          },
          "metadata": {
            "needs_background": "light"
          },
          "output_type": "display_data"
        }
      ],
      "source": [
        "sns.countplot(x=\"type_of_violence\", hue=\"year\", data=mydata)"
      ]
    },
    {
      "cell_type": "code",
      "execution_count": null,
      "id": "7573f671",
      "metadata": {
        "id": "7573f671",
        "outputId": "1bd6ea97-bd77-4437-e907-83f140289859"
      },
      "outputs": [
        {
          "data": {
            "text/plain": [
              "47.77270125413105"
            ]
          },
          "execution_count": 9,
          "metadata": {},
          "output_type": "execute_result"
        }
      ],
      "source": [
        "mydata['deaths_civilians'].std()"
      ]
    },
    {
      "cell_type": "code",
      "execution_count": null,
      "id": "fb7a8b83",
      "metadata": {
        "id": "fb7a8b83",
        "outputId": "18c05ed3-3193-4367-fb80-c6b0f610064b"
      },
      "outputs": [
        {
          "data": {
            "text/plain": [
              "217.71157769664163"
            ]
          },
          "execution_count": 10,
          "metadata": {},
          "output_type": "execute_result"
        }
      ],
      "source": [
        "mydata['deaths_unknown'].std()"
      ]
    },
    {
      "cell_type": "code",
      "execution_count": null,
      "id": "1ef8f676",
      "metadata": {
        "id": "1ef8f676"
      },
      "outputs": [],
      "source": [
        "dc = mydata['deaths_civilians'].mean()"
      ]
    },
    {
      "cell_type": "code",
      "execution_count": null,
      "id": "d9e9c7c9",
      "metadata": {
        "id": "d9e9c7c9"
      },
      "outputs": [],
      "source": [
        "du = mydata['deaths_unknown'].mean()"
      ]
    },
    {
      "cell_type": "code",
      "execution_count": null,
      "id": "15017cef",
      "metadata": {
        "id": "15017cef",
        "outputId": "55595494-2213-4bab-dc30-91c343c586dd"
      },
      "outputs": [
        {
          "data": {
            "text/plain": [
              "97596.9400186371"
            ]
          },
          "execution_count": 13,
          "metadata": {},
          "output_type": "execute_result"
        }
      ],
      "source": [
        "mydata['low'].var()"
      ]
    },
    {
      "cell_type": "code",
      "execution_count": null,
      "id": "94f04f04",
      "metadata": {
        "scrolled": true,
        "id": "94f04f04",
        "outputId": "f842fde1-4543-4701-b66f-e60f3ee0d73c"
      },
      "outputs": [
        {
          "data": {
            "text/plain": [
              "26.394394394394393"
            ]
          },
          "execution_count": 14,
          "metadata": {},
          "output_type": "execute_result"
        }
      ],
      "source": [
        "mydata['low'].mean()"
      ]
    },
    {
      "cell_type": "code",
      "execution_count": null,
      "id": "b2e332a4",
      "metadata": {
        "id": "b2e332a4",
        "outputId": "5e1c6c7e-392c-47ed-8cd9-50b578c584a6"
      },
      "outputs": [
        {
          "data": {
            "text/plain": [
              "38.288288288288285"
            ]
          },
          "execution_count": 15,
          "metadata": {},
          "output_type": "execute_result"
        }
      ],
      "source": [
        "mydata['high'].mean()"
      ]
    },
    {
      "cell_type": "code",
      "execution_count": null,
      "id": "f38161e7",
      "metadata": {
        "id": "f38161e7",
        "outputId": "08eca443-e43d-4332-9e94-339f7bf1f04c"
      },
      "outputs": [
        {
          "data": {
            "text/plain": [
              "27.01901901901902"
            ]
          },
          "execution_count": 16,
          "metadata": {},
          "output_type": "execute_result"
        }
      ],
      "source": [
        "mydata['best'].mean()"
      ]
    },
    {
      "cell_type": "code",
      "execution_count": null,
      "id": "390ab844",
      "metadata": {
        "id": "390ab844"
      },
      "outputs": [],
      "source": []
    },
    {
      "cell_type": "code",
      "execution_count": null,
      "id": "6343b725",
      "metadata": {
        "id": "6343b725",
        "outputId": "1e473073-6c38-4bfa-a23c-010f314a100d"
      },
      "outputs": [
        {
          "name": "stderr",
          "output_type": "stream",
          "text": [
            "D:\\Applications\\Anaconda\\lib\\site-packages\\seaborn\\distributions.py:2619: FutureWarning: `distplot` is a deprecated function and will be removed in a future version. Please adapt your code to use either `displot` (a figure-level function with similar flexibility) or `histplot` (an axes-level function for histograms).\n",
            "  warnings.warn(msg, FutureWarning)\n"
          ]
        },
        {
          "data": {
            "text/plain": [
              "<AxesSubplot:xlabel='year', ylabel='Density'>"
            ]
          },
          "execution_count": 17,
          "metadata": {},
          "output_type": "execute_result"
        },
        {
          "data": {
            "image/png": "[encoded data removed]",
            "text/plain": [
              "<Figure size 432x288 with 1 Axes>"
            ]
          },
          "metadata": {
            "needs_background": "light"
          },
          "output_type": "display_data"
        }
      ],
      "source": [
        "sns.distplot(mydata['year'])"
      ]
    },
    {
      "cell_type": "code",
      "execution_count": null,
      "id": "75a8d936",
      "metadata": {
        "id": "75a8d936",
        "outputId": "125be7ac-e372-4ab7-dd70-2d54a59fd2c7"
      },
      "outputs": [
        {
          "data": {
            "text/plain": [
              "array([[<AxesSubplot:title={'center':'1'}>,\n",
              "        <AxesSubplot:title={'center':'2'}>],\n",
              "       [<AxesSubplot:title={'center':'3'}>, <AxesSubplot:>]], dtype=object)"
            ]
          },
          "execution_count": 18,
          "metadata": {},
          "output_type": "execute_result"
        },
        {
          "data": {
            "image/png": "[encoded data removed]",
            "text/plain": [
              "<Figure size 432x288 with 4 Axes>"
            ]
          },
          "metadata": {
            "needs_background": "light"
          },
          "output_type": "display_data"
        }
      ],
      "source": [
        "mydata.hist(by='type_of_violence',column = 'high')"
      ]
    },
    {
      "cell_type": "code",
      "execution_count": null,
      "id": "636cdfeb",
      "metadata": {
        "scrolled": true,
        "id": "636cdfeb",
        "outputId": "2581473d-f2e2-4f5d-bee9-ced2e3133148"
      },
      "outputs": [
        {
          "data": {
            "text/plain": [
              "<AxesSubplot:>"
            ]
          },
          "execution_count": 19,
          "metadata": {},
          "output_type": "execute_result"
        },
        {
          "data": {
            "image/png": "[encoded data removed]",
            "text/plain": [
              "<Figure size 432x288 with 2 Axes>"
            ]
          },
          "metadata": {
            "needs_background": "light"
          },
          "output_type": "display_data"
        }
      ],
      "source": [
        "corr = mydata.corr()\n",
        "sns.heatmap(corr, annot=True)"
      ]
    },
    {
      "cell_type": "markdown",
      "id": "efd3af54",
      "metadata": {
        "id": "efd3af54"
      },
      "source": [
        "# Lab 2 "
      ]
    },
    {
      "cell_type": "code",
      "execution_count": null,
      "id": "a09bbefa",
      "metadata": {
        "id": "a09bbefa"
      },
      "outputs": [],
      "source": [
        "import scipy.stats as st"
      ]
    },
    {
      "cell_type": "code",
      "execution_count": null,
      "id": "7f2f67e5",
      "metadata": {
        "id": "7f2f67e5"
      },
      "outputs": [],
      "source": [
        "x = mydata['year']"
      ]
    },
    {
      "cell_type": "code",
      "execution_count": null,
      "id": "ac0d66d1",
      "metadata": {
        "id": "ac0d66d1",
        "outputId": "8fbb602d-1b52-403a-8355-7833140d22f5"
      },
      "outputs": [
        {
          "data": {
            "text/plain": [
              "0      2014\n",
              "1      2013\n",
              "2      2014\n",
              "3      2014\n",
              "4      2014\n",
              "       ... \n",
              "995    2004\n",
              "996    2004\n",
              "997    2004\n",
              "998    2004\n",
              "999    2004\n",
              "Name: year, Length: 1000, dtype: int64"
            ]
          },
          "execution_count": 23,
          "metadata": {},
          "output_type": "execute_result"
        }
      ],
      "source": [
        "x[0:1000]"
      ]
    },
    {
      "cell_type": "code",
      "execution_count": null,
      "id": "18f4d0ea",
      "metadata": {
        "id": "18f4d0ea",
        "outputId": "729a46cd-cea5-4a1e-81e9-81e9387daa13"
      },
      "outputs": [
        {
          "data": {
            "image/png": "[encoded data removed]",
            "text/plain": [
              "<Figure size 432x288 with 1 Axes>"
            ]
          },
          "metadata": {
            "needs_background": "light"
          },
          "output_type": "display_data"
        }
      ],
      "source": [
        "ax = plt.subplots()\n",
        "_ = plt.hist(x, color = 'lightblue')"
      ]
    },
    {
      "cell_type": "markdown",
      "id": "b654ec54",
      "metadata": {
        "id": "b654ec54"
      },
      "source": [
        "### Mean"
      ]
    },
    {
      "cell_type": "code",
      "execution_count": null,
      "id": "ff673d62",
      "metadata": {
        "id": "ff673d62",
        "outputId": "8eefc962-2252-456d-c8cb-a6b0507f729e"
      },
      "outputs": [
        {
          "data": {
            "text/plain": [
              "2003.3913913913914"
            ]
          },
          "execution_count": 25,
          "metadata": {},
          "output_type": "execute_result"
        }
      ],
      "source": [
        "xbar = x.mean()\n",
        "xbar"
      ]
    },
    {
      "cell_type": "code",
      "execution_count": null,
      "id": "5955b316",
      "metadata": {
        "id": "5955b316",
        "outputId": "bf0de400-13dd-412b-9324-07a084384657"
      },
      "outputs": [
        {
          "data": {
            "image/png": "[encoded data removed]",
            "text/plain": [
              "<Figure size 432x288 with 1 Axes>"
            ]
          },
          "metadata": {
            "needs_background": "light"
          },
          "output_type": "display_data"
        }
      ],
      "source": [
        "fig, ax = plt.subplots()\n",
        "plt.axvline(x = x.mean(), color='black')\n",
        "_ = plt.hist(x, color = 'cyan')"
      ]
    },
    {
      "cell_type": "markdown",
      "id": "336a3d90",
      "metadata": {
        "id": "336a3d90"
      },
      "source": [
        "### Median"
      ]
    },
    {
      "cell_type": "code",
      "execution_count": null,
      "id": "a6caca77",
      "metadata": {
        "id": "a6caca77",
        "outputId": "03920c20-7b02-4d6b-88e4-d38c0b73a776"
      },
      "outputs": [
        {
          "data": {
            "text/plain": [
              "2005.0"
            ]
          },
          "execution_count": 27,
          "metadata": {},
          "output_type": "execute_result"
        }
      ],
      "source": [
        "np.median(x)"
      ]
    },
    {
      "cell_type": "code",
      "execution_count": null,
      "id": "96e514d9",
      "metadata": {
        "id": "96e514d9",
        "outputId": "0e878133-48c8-49b3-b5f8-8692194412e0"
      },
      "outputs": [
        {
          "data": {
            "image/png": "[encoded data removed]",
            "text/plain": [
              "<Figure size 432x288 with 1 Axes>"
            ]
          },
          "metadata": {
            "needs_background": "light"
          },
          "output_type": "display_data"
        }
      ],
      "source": [
        "fig, ax = plt.subplots()\n",
        "plt.axvline(x = np.mean(x), color='red')\n",
        "plt.axvline(x = np.median(x), color='blue')\n",
        "_ = plt.hist(x, color = 'grey')"
      ]
    },
    {
      "cell_type": "markdown",
      "id": "1a3f97cd",
      "metadata": {
        "id": "1a3f97cd"
      },
      "source": [
        "## Measures of Variation\n"
      ]
    },
    {
      "cell_type": "markdown",
      "id": "a36e4f3a",
      "metadata": {
        "id": "a36e4f3a"
      },
      "source": [
        "###          Variance"
      ]
    },
    {
      "cell_type": "code",
      "execution_count": null,
      "id": "8f33c5d9",
      "metadata": {
        "id": "8f33c5d9",
        "outputId": "6e4056a1-63fb-486c-83e2-c2b57a3a2247"
      },
      "outputs": [
        {
          "data": {
            "text/plain": [
              "27.868769119644767"
            ]
          },
          "execution_count": 29,
          "metadata": {},
          "output_type": "execute_result"
        }
      ],
      "source": [
        "x.var()"
      ]
    },
    {
      "cell_type": "markdown",
      "id": "05c10999",
      "metadata": {
        "id": "05c10999"
      },
      "source": [
        "### Standard deviation"
      ]
    },
    {
      "cell_type": "code",
      "execution_count": null,
      "id": "72b260a9",
      "metadata": {
        "id": "72b260a9",
        "outputId": "69e7c0cf-4c7f-416a-8e03-9d2c7955c9b4"
      },
      "outputs": [
        {
          "data": {
            "text/plain": [
              "5.279087906034978"
            ]
          },
          "execution_count": 30,
          "metadata": {},
          "output_type": "execute_result"
        }
      ],
      "source": [
        "# ** = power\n",
        "x.var()**(1/2)\n"
      ]
    },
    {
      "cell_type": "code",
      "execution_count": null,
      "id": "36973a56",
      "metadata": {
        "id": "36973a56",
        "outputId": "304af34d-bcbc-4e20-d4d4-c7f727bf0b13"
      },
      "outputs": [
        {
          "data": {
            "text/plain": [
              "5.279087906034978"
            ]
          },
          "execution_count": 31,
          "metadata": {},
          "output_type": "execute_result"
        }
      ],
      "source": [
        "sd = x.std()\n",
        "sd"
      ]
    },
    {
      "cell_type": "code",
      "execution_count": null,
      "id": "03709d85",
      "metadata": {
        "id": "03709d85",
        "outputId": "d5d1e8b3-9731-46ed-b382-1fa7a34e3913"
      },
      "outputs": [
        {
          "data": {
            "image/png": "[encoded data removed]",
            "text/plain": [
              "<Figure size 432x288 with 1 Axes>"
            ]
          },
          "metadata": {
            "needs_background": "light"
          },
          "output_type": "display_data"
        }
      ],
      "source": [
        "fig, ax = plt.subplots()\n",
        "plt.axvline(x = xbar, color='red')\n",
        "# mean\n",
        "plt.axvline(x = xbar+sd, color='green')\n",
        "# SD 1\n",
        "plt.axvline(x = xbar-sd, color='green')\n",
        "# SD -1\n",
        "plt.axvline(x = xbar+2*sd, color='orange')\n",
        "# SD 2\n",
        "plt.axvline(x = xbar-2*sd, color='orange')\n",
        "# SD -2\n",
        "_ = plt.hist(x, color = 'grey')"
      ]
    },
    {
      "cell_type": "code",
      "execution_count": null,
      "id": "0dcd6b85",
      "metadata": {
        "id": "0dcd6b85"
      },
      "outputs": [],
      "source": [
        "x = mydata['year']"
      ]
    },
    {
      "cell_type": "code",
      "execution_count": null,
      "id": "549fe9f9",
      "metadata": {
        "id": "549fe9f9"
      },
      "outputs": [],
      "source": [
        "sns.set_style('ticks')"
      ]
    },
    {
      "cell_type": "code",
      "execution_count": null,
      "id": "a70e9c57",
      "metadata": {
        "id": "a70e9c57",
        "outputId": "40ab54c8-49e0-4f99-8e57-06ca78d4136e"
      },
      "outputs": [
        {
          "data": {
            "image/png": "[encoded data removed]",
            "text/plain": [
              "<Figure size 360x360 with 1 Axes>"
            ]
          },
          "metadata": {},
          "output_type": "display_data"
        }
      ],
      "source": [
        "_ = sns.displot(x, kde=True)"
      ]
    },
    {
      "cell_type": "markdown",
      "id": "cf0bd9fd",
      "metadata": {
        "id": "cf0bd9fd"
      },
      "source": [
        "'id'\n",
        "'year'\n",
        "'type_of_violence'\n",
        "'conflict_new_id'\n",
        "'dyad_new_id'\n",
        "'latitude'\n",
        "'longitude'\n",
        "'deaths_civilians'\n",
        "'deaths_unknown'\n",
        "'low'\n",
        "'best'"
      ]
    },
    {
      "cell_type": "code",
      "execution_count": null,
      "id": "b58aa17f",
      "metadata": {
        "id": "b58aa17f",
        "outputId": "97f8cd62-4e62-4cb1-cdaf-3bdf1534e890"
      },
      "outputs": [
        {
          "data": {
            "text/plain": [
              "2003.3913913913914"
            ]
          },
          "execution_count": 36,
          "metadata": {},
          "output_type": "execute_result"
        }
      ],
      "source": [
        "x.mean()"
      ]
    },
    {
      "cell_type": "code",
      "execution_count": null,
      "id": "eb00b96a",
      "metadata": {
        "id": "eb00b96a"
      },
      "outputs": [],
      "source": [
        "x = mydata['dyad_new_id']\n"
      ]
    },
    {
      "cell_type": "code",
      "execution_count": null,
      "id": "8ab0fac6",
      "metadata": {
        "id": "8ab0fac6",
        "outputId": "c9c5fc68-48cd-4b46-9772-1c881b2aece7"
      },
      "outputs": [
        {
          "data": {
            "text/plain": [
              "array([  524,   799,   521,   948,   524,   524,   753,   973,   524,\n",
              "         524,   524,  1005,   523,   948,   524,   564,   565,   883,\n",
              "         524,   524,   524,   524,   972,   524,   521,   883,   948,\n",
              "         524,   524, 13891,   948,   524,   521,   524,   973,   524,\n",
              "         523,   524,  5190,   524,   883,   524,   753,   524,   524,\n",
              "         524,   973, 13891,   781,   973], dtype=int64)"
            ]
          },
          "execution_count": 38,
          "metadata": {},
          "output_type": "execute_result"
        }
      ],
      "source": [
        "x_sample = np.random.choice(x, size=50, replace=False)\n",
        "x_sample"
      ]
    },
    {
      "cell_type": "code",
      "execution_count": null,
      "id": "98565d58",
      "metadata": {
        "id": "98565d58",
        "outputId": "5831679c-6958-4fed-8882-cbf8af9c9a0b"
      },
      "outputs": [
        {
          "data": {
            "text/plain": [
              "1283.16"
            ]
          },
          "execution_count": 39,
          "metadata": {},
          "output_type": "execute_result"
        }
      ],
      "source": [
        "x_sample.mean()"
      ]
    },
    {
      "cell_type": "markdown",
      "id": "d021e369",
      "metadata": {
        "id": "d021e369"
      },
      "source": [
        "#### function == method"
      ]
    },
    {
      "cell_type": "code",
      "execution_count": null,
      "id": "57192fd2",
      "metadata": {
        "id": "57192fd2"
      },
      "outputs": [],
      "source": [
        "# \n",
        "def sample_mean_calculator(input_dist, sample_size, n_samples):\n",
        "    sample_means = []\n",
        "    for i in range(n_samples):\n",
        "        sample = np.random.choice(input_dist, size=sample_size, replace=False)\n",
        "        sample_means.append(sample.mean())\n",
        "    return sample_means"
      ]
    },
    {
      "cell_type": "code",
      "execution_count": null,
      "id": "b3f0b3bd",
      "metadata": {
        "id": "b3f0b3bd",
        "outputId": "47b989cd-5ef5-4107-aa7c-f22d37099877"
      },
      "outputs": [
        {
          "data": {
            "image/png": "[encoded data removed]",
            "text/plain": [
              "<Figure size 360x360 with 1 Axes>"
            ]
          },
          "metadata": {},
          "output_type": "display_data"
        }
      ],
      "source": [
        "sns.displot(sample_mean_calculator(x, 10, 500), color='grey', kde=True)\n",
        "_ = plt.xlim(500, 5000)"
      ]
    },
    {
      "cell_type": "code",
      "execution_count": null,
      "id": "a46c2930",
      "metadata": {
        "id": "a46c2930",
        "outputId": "c42ea4d4-05c1-4b4b-86ec-3bfa3e17d4eb"
      },
      "outputs": [
        {
          "data": {
            "image/png": "[encoded data removed]",
            "text/plain": [
              "<Figure size 360x360 with 1 Axes>"
            ]
          },
          "metadata": {},
          "output_type": "display_data"
        }
      ],
      "source": [
        "sns.displot(sample_mean_calculator(x, 25, 500), color='grey', kde=True)\n",
        "_ = plt.xlim(500, 5000)"
      ]
    },
    {
      "cell_type": "code",
      "execution_count": null,
      "id": "0ce8c868",
      "metadata": {
        "id": "0ce8c868",
        "outputId": "fd4136e6-fd7e-46b5-cde9-e3d2628236ef"
      },
      "outputs": [
        {
          "data": {
            "image/png": "[encoded data removed]",
            "text/plain": [
              "<Figure size 360x360 with 1 Axes>"
            ]
          },
          "metadata": {},
          "output_type": "display_data"
        }
      ],
      "source": [
        "sns.displot(sample_mean_calculator(x, 50, 500), color='grey', kde=True)\n",
        "_ = plt.xlim(500, 5000)"
      ]
    },
    {
      "cell_type": "code",
      "execution_count": null,
      "id": "33d6fae0",
      "metadata": {
        "id": "33d6fae0",
        "outputId": "a0e9e195-a090-4251-c319-0e2b3f08ba9e"
      },
      "outputs": [
        {
          "data": {
            "image/png": "[encoded data removed]",
            "text/plain": [
              "<Figure size 360x360 with 1 Axes>"
            ]
          },
          "metadata": {},
          "output_type": "display_data"
        }
      ],
      "source": [
        "sns.displot(sample_mean_calculator(x, 100, 500), color='grey', kde=True)\n",
        "_ = plt.xlim(500, 5000)"
      ]
    },
    {
      "cell_type": "code",
      "execution_count": null,
      "id": "71011ec1",
      "metadata": {
        "id": "71011ec1",
        "outputId": "3fbe9e6b-003b-43bb-e29e-f5be66cdeed7"
      },
      "outputs": [
        {
          "data": {
            "image/png": "[encoded data removed]",
            "text/plain": [
              "<Figure size 360x360 with 1 Axes>"
            ]
          },
          "metadata": {},
          "output_type": "display_data"
        }
      ],
      "source": [
        "sns.displot(sample_mean_calculator(x, 1500, 500), color='grey', kde=True)\n",
        "_ = plt.xlim(500, 5000)"
      ]
    },
    {
      "cell_type": "markdown",
      "id": "8e373de3",
      "metadata": {
        "id": "8e373de3"
      },
      "source": [
        "#### Sampling from a skewed distribution"
      ]
    },
    {
      "cell_type": "code",
      "execution_count": null,
      "id": "7acb0a4e",
      "metadata": {
        "id": "7acb0a4e"
      },
      "outputs": [],
      "source": [
        "s = st.skewnorm.rvs(20, size=10000)"
      ]
    },
    {
      "cell_type": "code",
      "execution_count": null,
      "id": "7f97eb61",
      "metadata": {
        "id": "7f97eb61",
        "outputId": "03a6a7da-741e-4864-8367-f03f4138ebd0"
      },
      "outputs": [
        {
          "data": {
            "image/png": "[encoded data removed]",
            "text/plain": [
              "<Figure size 360x360 with 1 Axes>"
            ]
          },
          "metadata": {},
          "output_type": "display_data"
        }
      ],
      "source": [
        "_ = sns.displot(s, kde=True)"
      ]
    },
    {
      "cell_type": "code",
      "execution_count": null,
      "id": "a177db95",
      "metadata": {
        "scrolled": false,
        "id": "a177db95",
        "outputId": "8cb1ba6e-239b-4137-cb9b-67d25a883478"
      },
      "outputs": [
        {
          "data": {
            "text/plain": [
              "1"
            ]
          },
          "execution_count": 252,
          "metadata": {},
          "output_type": "execute_result"
        }
      ],
      "source": [
        "x_i = np.random.choice(mydata['best'])\n",
        "mu = mydata['best'].mean()\n",
        "sigma = mydata['best'].std()\n",
        "x_i\n"
      ]
    },
    {
      "cell_type": "code",
      "execution_count": null,
      "id": "4a16d21c",
      "metadata": {
        "id": "4a16d21c",
        "outputId": "7ba59f9a-be7e-43ab-f6a8-8d2246a8b8b0"
      },
      "outputs": [
        {
          "data": {
            "text/plain": [
              "-0.08337749249024273"
            ]
          },
          "execution_count": 253,
          "metadata": {},
          "output_type": "execute_result"
        }
      ],
      "source": [
        "z = (x_i-mu)/sigma\n",
        "z"
      ]
    },
    {
      "cell_type": "code",
      "execution_count": null,
      "id": "c66cbd80",
      "metadata": {
        "id": "c66cbd80",
        "outputId": "8b6c384c-6fff-4c2f-d208-5cc2684941e6"
      },
      "outputs": [
        {
          "data": {
            "image/png": "[encoded data removed]",
            "text/plain": [
              "<Figure size 360x360 with 1 Axes>"
            ]
          },
          "metadata": {},
          "output_type": "display_data"
        }
      ],
      "source": [
        "sns.displot(x, color='gray')\n",
        "ax.set_xlim(0, 100)\n",
        "plt.axvline(mu, color='orange')\n",
        "for v in [-3, -2, -1, 1, 2, 3]:\n",
        "    plt.axvline(mu+v*sigma, color='olivedrab')\n",
        "_ = plt.axvline(x_i, color='purple')"
      ]
    },
    {
      "cell_type": "markdown",
      "id": "2039eb79",
      "metadata": {
        "id": "2039eb79"
      },
      "source": [
        "## P-value\n"
      ]
    },
    {
      "cell_type": "code",
      "execution_count": null,
      "id": "0d411852",
      "metadata": {
        "id": "0d411852",
        "outputId": "e803f83d-d86a-432a-d080-23208401d2a3"
      },
      "outputs": [
        {
          "data": {
            "text/plain": [
              "933.5513845776685"
            ]
          },
          "execution_count": 254,
          "metadata": {},
          "output_type": "execute_result"
        }
      ],
      "source": [
        "p_below = st.norm.cdf(z)\n",
        "p_below*2000"
      ]
    },
    {
      "cell_type": "code",
      "execution_count": null,
      "id": "7738a198",
      "metadata": {
        "id": "7738a198"
      },
      "outputs": [],
      "source": []
    },
    {
      "cell_type": "code",
      "execution_count": null,
      "id": "2f49e010",
      "metadata": {
        "id": "2f49e010"
      },
      "outputs": [],
      "source": []
    }
  ],
  "metadata": {
    "kernelspec": {
      "display_name": "Python 3 (ipykernel)",
      "language": "python",
      "name": "python3"
    },
    "language_info": {
      "codemirror_mode": {
        "name": "ipython",
        "version": 3
      },
      "file_extension": ".py",
      "mimetype": "text/x-python",
      "name": "python",
      "nbconvert_exporter": "python",
      "pygments_lexer": "ipython3",
      "version": "3.9.7"
    },
    "colab": {
      "provenance": [],
      "include_colab_link": true
    }
  },
  "nbformat": 4,
  "nbformat_minor": 5
}