{
  "nbformat": 4,
  "nbformat_minor": 0,
  "metadata": {
    "colab": {
      "provenance": [],
      "collapsed_sections": [],
      "authorship_tag": "ABX9TyPB9OF6wLRCIeTzdsHsiFyX",
      "include_colab_link": true
    },
    "kernelspec": {
      "name": "python3",
      "display_name": "Python 3"
    },
    "language_info": {
      "name": "python"
    }
  },
  "cells": [
    {
      "cell_type": "markdown",
      "metadata": {
        "id": "view-in-github",
        "colab_type": "text"
      },
      "source": [
        "<a href=\"https://colab.research.google.com/github/akarabubakr/falsepoint/blob/main/falsePoint.ipynb\" target=\"_parent\"><img src=\"https://colab.research.google.com/assets/colab-badge.svg\" alt=\"Open In Colab\"/></a>"
      ]
    },
    {
      "cell_type": "code",
      "execution_count": 3,
      "metadata": {
        "colab": {
          "base_uri": "https://localhost:8080/"
        },
        "id": "Y7iIUH_bOuJ6",
        "outputId": "35452747-ac2e-40fb-d01c-ae05e4050259"
      },
      "outputs": [
        {
          "output_type": "stream",
          "name": "stdout",
          "text": [
            "Interval :(0, 2)\n",
            "Result  : 1.7099759466766968 \n"
          ]
        }
      ],
      "source": [
        "def falseP( func , a , b ):\n",
        "    funca = func(a)\n",
        "    funcb = func(b)\n",
        "    if funca * funcb > 0:\n",
        "        print(\"no soulution !\")\n",
        "        return None\n",
        "\n",
        "    for _ in range(100):\n",
        "        value = ((a * funcb) - (b * funca)) / (funcb - funca)\n",
        "\n",
        "        if func(value) == 0:\n",
        "            return value\n",
        "        if func(a) * func(value)> 0:\n",
        "            a = value\n",
        "            funca= func(value)\n",
        "        if func(b) * func(value) > 0:\n",
        "            b = value\n",
        "            funcb = func(value)\n",
        "\n",
        "    return value\n",
        "\n",
        "\n",
        "function = lambda x: x ** 3 - 5  #same with google sheet function\n",
        "\n",
        "a= 0\n",
        "b= 2\n",
        "print(f\"Interval :{a,b}\")\n",
        "point = falseP(function, a, b)\n",
        "print(f\"Result  : {point} \")"
      ]
    }
  ]
}